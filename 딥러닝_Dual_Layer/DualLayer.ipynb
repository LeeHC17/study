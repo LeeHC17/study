{
 "cells": [
  {
   "cell_type": "code",
   "execution_count": 1,
   "metadata": {},
   "outputs": [],
   "source": [
    "import numpy as np\n",
    "import matplotlib.pyplot as plt\n",
    "from sklearn.datasets import load_breast_cancer\n",
    "from sklearn.model_selection import train_test_split"
   ]
  },
  {
   "cell_type": "code",
   "execution_count": 2,
   "metadata": {},
   "outputs": [
    {
     "name": "stdout",
     "output_type": "stream",
     "text": [
      "(364, 30) (91, 30)\n"
     ]
    }
   ],
   "source": [
    "cancer = load_breast_cancer()\n",
    "x = cancer.data\n",
    "y = cancer.target\n",
    "x_train_all, x_test, y_train_all, y_test = train_test_split(x, y, stratify=y, \n",
    "                                                            test_size=0.2, random_state=42)\n",
    "x_train, x_val, y_train, y_val = train_test_split(x_train_all, y_train_all, stratify=y_train_all, \n",
    "                                                  test_size=0.2, random_state=42)\n",
    "print(x_train.shape, x_val.shape)"
   ]
  },
  {
   "cell_type": "code",
   "execution_count": 10,
   "metadata": {},
   "outputs": [],
   "source": [
    "class SingleLayer:\n",
    "    def __init__(self, learning_rate=0.1, l1=0, l2=0):\n",
    "        self.w = None              # 가중치\n",
    "        self.b = None              # 절편\n",
    "        self.losses = []           # 훈련 손실\n",
    "        self.val_losses = []       # 검증 손실\n",
    "        self.w_history = []        # 가중치 기록\n",
    "        self.lr = learning_rate    # 학습률\n",
    "        self.l1 = l1               # L1 손실 하이퍼파라미터\n",
    "        self.l2 = l2               # L2 손실 하이퍼파라미터\n",
    "        \n",
    "    def forpass(self, x):\n",
    "        z = np.dot(x, self.w) + self.b\n",
    "        return z\n",
    "    \n",
    "    def backprop(self, x, err):\n",
    "        m = len(x)\n",
    "        w_grad = np.dot(x.T, err) / m  #가중치에 대한 그래디언트 계산\n",
    "        b_grad = np.sum(err) / m       #절편에 대한 그래디언트 계산\n",
    "        return w_grad, b_grad\n",
    "    \n",
    "    def activation(self, z):\n",
    "        z = np.clip(z, -100, None)     #안전한 계산을 위해\n",
    "        a = 1 / (1 + np.exp(-z))       #시그모이드 계산\n",
    "        return a\n",
    "    \n",
    "    def fit(self, x, y, epochs=100, x_val=None, y_val=None):\n",
    "        y = y.reshape(-1, 1)           #타깃을 열 벡터로 바꿈\n",
    "        m = len(x)\n",
    "        self.w = np.ones((x.shape[1], 1)) #가중치 초기화\n",
    "        self.b = 0                        #절편 초기화\n",
    "        self.w_history.append(self.w.copy())  #가중치를 기록\n",
    "        \n",
    "        #epochs만큼 반복\n",
    "        for i in range(epochs):\n",
    "            z = self.forpass(x)    #정방향 계산\n",
    "            a = self.activation(z) #활성화함수 적용\n",
    "            err = -(y - a)         #오차\n",
    "            w_grad, b_grad = self.backprop(x, err) #오차를 역전파하여 그래디언트 계산\n",
    "            w_grad += (self.l1 * np.sign(self.w) + self.l2 * self.w) / m\n",
    "            #가중치와 절편 업데이트\n",
    "            self.w -= self.lr * w_grad\n",
    "            self.b -= self.lr * b_grad\n",
    "            #가중치 기록\n",
    "            self.w_history.append(self.w.copy())\n",
    "            a = np.clip(a, 1e-10, 1-1e-10) #안전한 로그계산을 위해 클리핑\n",
    "            loss = np.sum(-(y*np.log(a) + (1-y)*np.log(1-a)))\n",
    "            self.losses.append((loss + self.reg_loss()) /m)\n",
    "            self.update_val_loss(x_val, y_val) #검증 세트에 대한 손실 계산\n",
    "            \n",
    "    def predict(self, x):\n",
    "        z = self.forpass(x)\n",
    "        return z > 0  #스텝 함수 적용\n",
    "    \n",
    "    def score(self, x, y):\n",
    "        return np.mean(self.predict(x) == y.reshape(-1, 1))\n",
    "    \n",
    "    def reg_loss(self):  #가중치에 규제 적용\n",
    "        return self.l1 * np.sum(np.abs(self.w)) + self.l2 / 2 * np.sum(self.w**2)\n",
    "    \n",
    "    def update_val_loss(self, x_val, y_val):\n",
    "        z = self.forpass(x_val)\n",
    "        a = self.activation(z)\n",
    "        a = np.clip(a, 1e-10, 1-1e-10)\n",
    "        val_loss = np.sum(-(y_val*np.log(a) + (1-y_val)*np.log(1-a)))\n",
    "        self.val_losses.append((val_loss + self.reg_loss()) / len(y_val))"
   ]
  },
  {
   "cell_type": "markdown",
   "metadata": {},
   "source": [
    "- forpass 함수 \n",
    "모든 샘플을 사용하여 그래디언트를 계산하는 배치 경사 하강법을 사용했다. 모든 샘플을 적용시켜야 하기 때문에 벡터화하여 np.dot함수(행렬 곱셈 메서드)를 이용해 X와 W를 계산하였다. X는 m개의 샘플과 n개의 특성을 가졌고, 가중치의 개수는 X의 특성의 개수를 따른다. 즉, 행렬 W는 n개의 행을 갖는다.\n",
    "- backprop 함수\n",
    "err가 m x 1 행렬이고 X가 m x n 행렬이기 때문에 행렬 곱셈에 적용하기 위해 X를 전치하여 계산하다. ※m은 샘플의 개수, n은 특성의 개수\n",
    "- fit()\n",
    "확률적 경사 하강법을 적용한 fit() 메서드에서는 인덱스를 무작위로 섞는 np.random.permutation()함수를 사용하여 이중 for문을 사용하였다. 배치 경사 하강법을 적용한 fit() 메서드에서는 모든 샘플을 사용하기 때문에 인덱스를 섞는 과정을 생략한다."
   ]
  },
  {
   "cell_type": "code",
   "execution_count": 14,
   "metadata": {},
   "outputs": [
    {
     "data": {
      "text/plain": [
       "0.978021978021978"
      ]
     },
     "execution_count": 14,
     "metadata": {},
     "output_type": "execute_result"
    }
   ],
   "source": [
    "from sklearn.preprocessing import StandardScaler\n",
    "scaler = StandardScaler()\n",
    "scaler.fit(x_train)\n",
    "x_train_scaled = scaler.transform(x_train)\n",
    "x_val_scaled = scaler.transform(x_val)\n",
    "\n",
    "single_layer = SingleLayer(l2=0.01)\n",
    "single_layer.fit(x_train_scaled, y_train,x_val=x_val_scaled, y_val=y_val, epochs=10000)\n",
    "single_layer.score(x_val_scaled, y_val)"
   ]
  },
  {
   "cell_type": "markdown",
   "metadata": {},
   "source": [
    "사이킷런에서 제공하는 StandardScaler를 사용해 원본 데이터의 스케일을 조정해 표준화(Standardization)한다."
   ]
  },
  {
   "cell_type": "code",
   "execution_count": 15,
   "metadata": {},
   "outputs": [
    {
     "data": {
      "image/png": "[encoded data removed]",
      "text/plain": [
       "<Figure size 432x288 with 1 Axes>"
      ]
     },
     "metadata": {
      "needs_background": "light"
     },
     "output_type": "display_data"
    }
   ],
   "source": [
    "plt.ylim(0, 0.3)\n",
    "plt.plot(single_layer.losses)\n",
    "plt.plot(single_layer.val_losses)\n",
    "plt.ylabel('loss')\n",
    "plt.xlabel('epoch')\n",
    "plt.legend(['train_loss', 'val_loss'])\n",
    "plt.show()"
   ]
  },
  {
   "cell_type": "code",
   "execution_count": 13,
   "metadata": {},
   "outputs": [
    {
     "data": {
      "image/png": "[encoded data removed]",
      "text/plain": [
       "<Figure size 432x288 with 1 Axes>"
      ]
     },
     "metadata": {
      "needs_background": "light"
     },
     "output_type": "display_data"
    }
   ],
   "source": [
    "w2 = []\n",
    "w3 = []\n",
    "for w in single_layer.w_history:\n",
    "    w2.append(w[2])\n",
    "    w3.append(w[3])\n",
    "plt.plot(w2, w3)\n",
    "plt.plot(w2[-1], w3[-1], 'ro')\n",
    "plt.xlabel('w[2]')\n",
    "plt.ylabel('w[3]')\n",
    "plt.show()"
   ]
  },
  {
   "cell_type": "markdown",
   "metadata": {},
   "source": [
    "최적의 가중치를 찾아가는 그래프가 5-1장의 그래프보다 더 매끄럽다."
   ]
  },
  {
   "cell_type": "code",
   "execution_count": 18,
   "metadata": {},
   "outputs": [],
   "source": [
    "class DualLayer(SingleLayer):\n",
    "    \n",
    "    def __init__(self, units=10, learning_rate=0.1, l1=0, l2=0):\n",
    "        self.units = units         # 은닉층의 뉴런 개수\n",
    "        self.w1 = None             # 은닉층의 가중치\n",
    "        self.b1 = None             # 은닉층의 절편\n",
    "        self.w2 = None             # 출력층의 가중치\n",
    "        self.b2 = None             # 출력층의 절편\n",
    "        self.a1 = None             # 은닉층의 활성화 출력\n",
    "        self.losses = []           # 훈련 손실\n",
    "        self.val_losses = []       # 검증 손실\n",
    "        self.lr = learning_rate    # 학습률\n",
    "        self.l1 = l1               # L1 손실 하이퍼파라미터\n",
    "        self.l2 = l2               # L2 손실 하이퍼파라미터\n",
    "        \n",
    "    def forpass(self, x):\n",
    "        z1 = np.dot(x, self.w1) + self.b1 #첫번째 층의 선형 식을 계산\n",
    "        self.a1 = self.activation(z1)     #활성화 함수 적용\n",
    "        z2 = np.dot(self.a1, self.w2) + self.b2 #두 번째층의 선형 식을 계산\n",
    "        return z2\n",
    "    \n",
    "    def backprop(self, x, err):\n",
    "        m = len(x)\n",
    "        # 출력층의 가중치와 절편에 대한 그래디언트 계산\n",
    "        w2_grad = np.dot(self.a1.T, err) / m\n",
    "        b2_grad = np.sum(err) / m\n",
    "        # 시그모이드 함수까지 그래디언트를 계산\n",
    "        err_to_hidden = np.dot(err, self.w2.T) * self.a1 * (1-self.a1)\n",
    "        # 은닉층의 가중치와 절편에 대한 그래디언트 계산\n",
    "        w1_grad = np.dot(x.T, err_to_hidden) / m\n",
    "        b1_grad = np.sum(err_to_hidden, axis=0) / m\n",
    "        return w1_grad, b1_grad, w2_grad, b2_grad\n",
    "    \n",
    "    def init_weights(self, n_features):\n",
    "        self.w1 = np.ones((n_features, self.units)) # (특성의 개수, 은닉층의 크기)\n",
    "        self.b1 = np.zeros(self.units)  # 은닉층의 크기\n",
    "        self.w2 = np.ones((self.units, 1)) # (은닉층의 크기, 1)\n",
    "        self.b2 = 0\n",
    "        \n",
    "    def fit(self, x, y, epochs=100, x_val=None, y_val=None):\n",
    "        y = y.reshape(-1, 1)  # 타깃을 열 벡터로 바꿈\n",
    "        y_val = y_val.reshape(-1, 1)\n",
    "        m = len(x) \n",
    "        self.init_weights(x.shape[1]) # 은닉층과 출력층의 가중치를 초기화\n",
    "        for i in range(epochs):\n",
    "            a = self.training(x, y, m)\n",
    "            a = np.clip(a, 1e-10, 1-1e-10)\n",
    "            loss = np.sum(-(y*np.log(a) + (1-y)*np.log(1-a)))\n",
    "            self.losses.append((loss + self.reg_loss()) / m)\n",
    "            self.update_val_loss(x_val, y_val)\n",
    "            \n",
    "    def training(self, x, y, m):\n",
    "        z = self.forpass(x)\n",
    "        a = self.activation(z)\n",
    "        err = -(y - a)\n",
    "        w1_grad, b1_grad, w2_grad, b2_grad = self.backprop(x, err)\n",
    "        # 그래디언트에 패널티 항의 미분 값을 더함\n",
    "        w1_grad += (self.l1 * np.sign(self.w1) + self.l2 * self.w1) / m\n",
    "        w2_grad += (self.l1 * np.sign(self.w2) + self.l2 * self.w2) / m\n",
    "        #은닉층의 가중치와 절편을 업데이트\n",
    "        self.w1 -= self.lr * w1_grad\n",
    "        self.b1 -= self.lr * b1_grad\n",
    "        #출력층의 가중치와 절편을 업데이트\n",
    "        self.w2 -= self.lr * w2_grad\n",
    "        self.b2 -= self.lr * b2_grad\n",
    "        return a\n",
    "    \n",
    "    def reg_loss(self):\n",
    "        # 은닉층과 출력층의 가중치에 규제를 적용\n",
    "        return self.l1 * (np.sum(np.abs(self.w1)) + np.sum(np.abs(self.w2))) + self.l2 / 2 * (np.sum(self.w1**2) + np.sum(self.w2**2))"
   ]
  },
  {
   "cell_type": "markdown",
   "metadata": {},
   "source": [
    "<img src=\"./MultiLayer.jpg\" width=\"100%\" height=\"100%\" />\n",
    "- backprop\n",
    "각 단계별 손실 함수를 미분한다.\n",
    "z2에 대한 미분 값 = -(y - a1)\n",
    "w2에 대한 미분 값 = a1\n",
    "b2에 대한 미분 값 = 1\n",
    "a1에 대한 미분 값 = w2\n",
    "z1에 대한 미분 값 = a1◉(1-a1)\n",
    "w1에 대한 미분 값 = x\n",
    "b1에 대한 미분 값 = 1\n",
    "<img src=\"./Backprop.jpg\" width=\"100%\" height=\"100%\" />\n",
    "<w2_grad>는 z2에 대한 미분 값과 w2에 대해 미분 값을 점곱하여 그래디언트를 계산했다. 여기서 a1과 err를 행렬 곱셈하기 위해 a1을 전치하였다. b2_grad는 z2에 대해 미분 값과 b2에 대해 미분한 값을 곱하여 그래디언트를 계산하였다. err_to_hidden는 은닉층의 손실함수를 미분하여 계산한 값으로 z2에 대해 미분한 값과 a1에 대한 미분 값, z1에 대한 미분 값을 곱하여 계산하였다. w1_grad는 z2, a1, z1, w1에 대한 미분 값을 곱한다. b1_grad는 z2, a1, z1, b1에 대한 미분 값을 곱한다. \n"
   ]
  },
  {
   "cell_type": "code",
   "execution_count": 19,
   "metadata": {},
   "outputs": [
    {
     "data": {
      "text/plain": [
       "0.978021978021978"
      ]
     },
     "execution_count": 19,
     "metadata": {},
     "output_type": "execute_result"
    }
   ],
   "source": [
    "dual_layer = DualLayer(l2=0.01)\n",
    "dual_layer.fit(x_train_scaled, y_train, x_val=x_val_scaled, y_val=y_val, epochs=20000)\n",
    "dual_layer.score(x_val_scaled, y_val)"
   ]
  },
  {
   "cell_type": "code",
   "execution_count": 20,
   "metadata": {},
   "outputs": [
    {
     "data": {
      "image/png": "[encoded data removed]",
      "text/plain": [
       "<Figure size 432x288 with 1 Axes>"
      ]
     },
     "metadata": {
      "needs_background": "light"
     },
     "output_type": "display_data"
    }
   ],
   "source": [
    "plt.ylim(0, 0.3)\n",
    "plt.plot(dual_layer.losses)\n",
    "plt.plot(dual_layer.val_losses)\n",
    "plt.ylabel('loss')\n",
    "plt.xlabel('epoch')\n",
    "plt.legend(['train_loss', 'val_loss'])\n",
    "plt.show()"
   ]
  },
  {
   "cell_type": "code",
   "execution_count": 22,
   "metadata": {},
   "outputs": [],
   "source": [
    "class RandomInitNetwork(DualLayer):\n",
    "    \n",
    "    def init_weights(self, n_features):\n",
    "        np.random.seed(42)\n",
    "        self.w1 = np.random.normal(0, 1, (n_features, self.units)) #(특성 개수, 은닉층의 크기)\n",
    "        self.b1 = np.zeros(self.units)\n",
    "        self.w2 = np.random.normal(0, 1, (self.units, 1)) #(은닉층의 크기, 1)\n",
    "        self.b2 = 0"
   ]
  },
  {
   "cell_type": "code",
   "execution_count": 23,
   "metadata": {},
   "outputs": [],
   "source": [
    "random_init_net = RandomInitNetwork(l2=0.01)\n",
    "random_init_net.fit(x_train_scaled, y_train, x_val=x_val_scaled, y_val=y_val, epochs=500)"
   ]
  },
  {
   "cell_type": "code",
   "execution_count": 24,
   "metadata": {},
   "outputs": [
    {
     "data": {
      "image/png": "[encoded data removed]",
      "text/plain": [
       "<Figure size 432x288 with 1 Axes>"
      ]
     },
     "metadata": {
      "needs_background": "light"
     },
     "output_type": "display_data"
    }
   ],
   "source": [
    "plt.plot(random_init_net.losses)\n",
    "plt.plot(random_init_net.val_losses)\n",
    "plt.ylabel('loss')\n",
    "plt.xlabel('epoch')\n",
    "plt.legend(['train_loss', 'val_loss'])\n",
    "plt.show()"
   ]
  },
  {
   "cell_type": "markdown",
   "metadata": {},
   "source": [
    "가중치 초기값을 0 또는 1로 초기화한 것보다 랜덤 값으로 초기화 했을 때 손실 함수 그래프가 더 매끄럽다. 즉, 최적의 가중치에 도달하기까지 과정이 랜덤으로 초기화 했을 때가 더 좋다. "
   ]
  },
  {
   "cell_type": "code",
   "execution_count": 28,
   "metadata": {},
   "outputs": [],
   "source": [
    "class MinibatchNetwork(RandomInitNetwork):\n",
    "    \n",
    "    def __init__(self, units=10, batch_size=32, learning_rate=0.1, l1=0, l2=0):\n",
    "        super().__init__(units, learning_rate, l1, l2)\n",
    "        self.batch_size = batch_size\n",
    "        \n",
    "    def fit(self, x, y, epochs=100, x_val=None, y_val=None):\n",
    "        y_val = y_val.reshape(-1, 1)     # 타깃을 열 벡터로 바꿈\n",
    "        self.init_weights(x.shape[1])    # 은닉층과 출력층의 가중치 초기화\n",
    "        np.random.seed(42)\n",
    "        for i in range(epochs):\n",
    "            loss = 0\n",
    "            for x_batch, y_batch in self.gen_batch(x, y):\n",
    "                y_batch = y_batch.reshape(-1, 1)\n",
    "                m = len(x_batch)\n",
    "                a = self.training(x_batch, y_batch, m)\n",
    "                a = np.clip(a, 1e-10, 1-1e-10)\n",
    "                loss += np.sum(-(y_batch*np.log(a) + (1-y_batch)*np.log(1-a)))\n",
    "            self.losses.append((loss + self.reg_loss()) / len(x))\n",
    "            self.update_val_loss(x_val, y_val)\n",
    "            \n",
    "    def gen_batch(self, x, y):\n",
    "        length = len(x)\n",
    "        bins = length // self.batch_size  #미니배치 횟수\n",
    "        if length % self.batch_size:\n",
    "            bins += 1   # 나머지가 있다면\n",
    "        indexes = np.random.permutation(np.arange(len(x))) #인덱스를 섞는다.\n",
    "        x = x[indexes]\n",
    "        y = y[indexes]\n",
    "        for i in range(bins):\n",
    "            start = self.batch_size * i\n",
    "            end = self.batch_size * (i + 1)\n",
    "            yield x[start:end], y[start:end]  #batch_size만큼 슬라이싱 반환"
   ]
  },
  {
   "cell_type": "markdown",
   "metadata": {},
   "source": [
    "`미니 배치 경사하강법`은 배치 경사하강법과 확률적 경사하강법의 절충안으로 확률적 경사하강법의 무작위성 배치 경사하강법의 여러개 샘플을 적용하는 것과 같은 장점을 합쳐 만든 방법이다.\n",
    "미니 배치 경사하강법은 전체 훈련 데이터 세트에서 n개의 샘플을 무작위로 선택하여 그래디언트를 계산한다. 샘플 선택과 그래디언트를 반복한다."
   ]
  },
  {
   "cell_type": "code",
   "execution_count": 30,
   "metadata": {},
   "outputs": [
    {
     "data": {
      "text/plain": [
       "0.978021978021978"
      ]
     },
     "execution_count": 30,
     "metadata": {},
     "output_type": "execute_result"
    }
   ],
   "source": [
    "minibatch_net = MinibatchNetwork(l2=0.01, batch_size=32)\n",
    "minibatch_net.fit(x_train_scaled, y_train, \n",
    "                  x_val=x_val_scaled, y_val=y_val, epochs=500)\n",
    "minibatch_net.score(x_val_scaled, y_val)"
   ]
  },
  {
   "cell_type": "code",
   "execution_count": 31,
   "metadata": {},
   "outputs": [
    {
     "data": {
      "image/png": "[encoded data removed]",
      "text/plain": [
       "<Figure size 432x288 with 1 Axes>"
      ]
     },
     "metadata": {
      "needs_background": "light"
     },
     "output_type": "display_data"
    }
   ],
   "source": [
    "plt.plot(minibatch_net.losses)\n",
    "plt.plot(minibatch_net.val_losses)\n",
    "plt.ylabel('loss')\n",
    "plt.xlabel('iteration')\n",
    "plt.legend(['train_loss', 'val_loss'])\n",
    "plt.show()"
   ]
  },
  {
   "cell_type": "code",
   "execution_count": 32,
   "metadata": {},
   "outputs": [
    {
     "data": {
      "text/plain": [
       "0.989010989010989"
      ]
     },
     "execution_count": 32,
     "metadata": {},
     "output_type": "execute_result"
    }
   ],
   "source": [
    "from sklearn.neural_network import MLPClassifier\n",
    "mlp = MLPClassifier(hidden_layer_sizes=(10, ), activation='logistic',\n",
    "                    solver='sgd', alpha=0.01, batch_size=32,\n",
    "                    learning_rate_init=0.1, max_iter=1000)\n",
    "mlp.fit(x_train_scaled, y_train)\n",
    "mlp.score(x_val_scaled, y_val)"
   ]
  },
  {
   "cell_type": "code",
   "execution_count": null,
   "metadata": {},
   "outputs": [],
   "source": []
  }
 ],
 "metadata": {
  "kernelspec": {
   "display_name": "Python 3",
   "language": "python",
   "name": "python3"
  },
  "language_info": {
   "codemirror_mode": {
    "name": "ipython",
    "version": 3
   },
   "file_extension": ".py",
   "mimetype": "text/x-python",
   "name": "python",
   "nbconvert_exporter": "python",
   "pygments_lexer": "ipython3",
   "version": "3.8.5"
  }
 },
 "nbformat": 4,
 "nbformat_minor": 4
}
